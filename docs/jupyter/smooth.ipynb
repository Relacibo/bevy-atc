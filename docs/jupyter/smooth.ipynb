{
 "cells": [
  {
   "cell_type": "code",
   "execution_count": 4,
   "id": "3e9d2fed",
   "metadata": {},
   "outputs": [],
   "source": [
    "import numpy as np\n",
    "from ipywidgets import interact\n",
    "import matplotlib.pyplot as plt"
   ]
  },
  {
   "cell_type": "code",
   "execution_count": 7,
   "id": "0f3bbf67",
   "metadata": {},
   "outputs": [],
   "source": [
    "def plot_f_and_integral(a):\n",
    "  x = np.linspace(-1, 3, 400)\n",
    "  y = -3 * x + a\n",
    "  y_int = -1.5 * x**2 + a * x + 30  # Integral of -3x + a is -1.5x^2 + a*x\n",
    "  plt.figure(figsize=(6,4))\n",
    "  plt.plot(x, y, label=f'f(x) = -3x + {a}')\n",
    "  plt.plot(x, y_int, label=f'Integral of f(x)', linestyle='--')\n",
    "  plt.xlabel('x')\n",
    "  plt.ylabel('Value')\n",
    "  plt.title('f(x) and its Integral')\n",
    "  plt.grid(True)\n",
    "  plt.legend()\n",
    "  plt.show()"
   ]
  },
  {
   "cell_type": "code",
   "execution_count": null,
   "id": "fffbca47",
   "metadata": {},
   "outputs": [
    {
     "data": {
      "application/vnd.jupyter.widget-view+json": {
       "model_id": "2645ee15c5914170b45e3fdea051e495",
       "version_major": 2,
       "version_minor": 0
      },
      "text/plain": [
       "interactive(children=(FloatSlider(value=0.0, description='a', max=3.0, min=-3.0), Output()), _dom_classes=('wi…"
      ]
     },
     "metadata": {},
     "output_type": "display_data"
    },
    {
     "data": {
      "text/plain": [
       "<function __main__.plot_f_and_integral(a)>"
      ]
     },
     "execution_count": 8,
     "metadata": {},
     "output_type": "execute_result"
    }
   ],
   "source": [
    "interact(plot_f_and_integral, a=(-3, 3, 0.1))"
   ]
  },
  {
   "cell_type": "markdown",
   "id": "44fedc56",
   "metadata": {},
   "source": [
    "[Geogebra](https://www.geogebra.org/calculator/xnzzejkb)"
   ]
  }
 ],
 "metadata": {
  "kernelspec": {
   "display_name": "Python 3",
   "language": "python",
   "name": "python3"
  },
  "language_info": {
   "codemirror_mode": {
    "name": "ipython",
    "version": 3
   },
   "file_extension": ".py",
   "mimetype": "text/x-python",
   "name": "python",
   "nbconvert_exporter": "python",
   "pygments_lexer": "ipython3",
   "version": "3.13.3"
  }
 },
 "nbformat": 4,
 "nbformat_minor": 5
}
